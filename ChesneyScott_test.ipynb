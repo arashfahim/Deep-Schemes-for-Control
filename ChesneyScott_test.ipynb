{
 "cells": [
  {
   "cell_type": "code",
   "execution_count": 1,
   "metadata": {},
   "outputs": [],
   "source": [
    "import numpy as np\n",
    "import copy\n",
    "from scipy import misc\n",
    "import matplotlib.pyplot as plt\n",
    "from mpl_toolkits import mplot3d\n",
    "%matplotlib inline\n",
    "import torch\n",
    "import torch.nn as nn\n",
    "import torch.optim as optim\n",
    "from torch.optim.lr_scheduler import StepLR, CyclicLR, ReduceLROnPlateau, LinearLR, ExponentialLR\n",
    "import random\n",
    "from torch.autograd.functional import jacobian#, hessian\n",
    "# import AUTOGRAD.FUNCTIONAL.JACOBIAN as jacobian\n",
    "import time\n",
    "import os\n",
    "path = os.getcwd()\n",
    "import json\n",
    "\n",
    "import matplotlib as mpl\n",
    "# from mpl_toolkits.mplot3d import Axes3D\n",
    "import matplotlib.pyplot as plt\n",
    "mpl.rcParams['legend.fontsize'] = 10\n",
    "torch.set_default_dtype(torch.float64)\n",
    "device = torch.device(\"cuda:0\" if torch.cuda.is_available() else \"cpu\")\n"
   ]
  },
  {
   "cell_type": "code",
   "execution_count": 2,
   "metadata": {},
   "outputs": [],
   "source": [
    "from functions import ChesneyScott\n",
    "from derivation import Grad, Grad_Hess\n",
    "from equation import semilinear\n",
    "from coeff import OU_drift_semi, custom_diff, zero_discount, f_driver, exponential_terminal"
   ]
  },
  {
   "cell_type": "code",
   "execution_count": 3,
   "metadata": {},
   "outputs": [],
   "source": [
    "pde_params={'dim':2,\n",
    "            'kappa':torch.tensor([0.,1.,0.8,0.6,0.4,0.5,0.3,0.2,0.1,0.7]).to(device), # The first kappa=0 because the drift of wealth process is zero\n",
    "            'theta':torch.tensor([0.,0.1,0.2,0.3,0.4,0.5,0.4,0.3,0.2,0.1]).to(device),\n",
    "            # 'nu':torch.tensor([0.02,0.015,0.11,0.12,0.01,0.013,0.14,0.14,0.01]).to(device), #Hung's coefficient\n",
    "            'nu':torch.tensor([0.2,0.15,0.11,0.12,0.1,0.13,0.14,0.14,0.1]).to(device), # we do not like vanishing diffusion coefficient\n",
    "            # 'lb':torch.tensor([0.,0.15,0.11,0.12,0.13,0.15,0.11,0.12,0.13,0.15]).to(device),   Hung's params\n",
    "            'lb':torch.tensor([0.,1.15,1.11,0.12,0.13,0.15,0.11,0.12,0.13,0.15]).to(device), # New params Make closed form solution more sensitive to time\n",
    "            'rho':torch.tensor([0.,0.0,0.0,0.0,0.0,0.0,0.0,0.0,0.0,0.0]).to(device),\n",
    "            'eta':torch.tensor([1.]).to(device),\n",
    "            'T': 1.,#torch.tensor([1.]).to(device),\n",
    "            }"
   ]
  },
  {
   "cell_type": "code",
   "execution_count": 4,
   "metadata": {},
   "outputs": [],
   "source": [
    "cs = ChesneyScott(pde_params)"
   ]
  },
  {
   "cell_type": "code",
   "execution_count": 5,
   "metadata": {},
   "outputs": [
    {
     "data": {
      "text/plain": [
       "tensor([0.5000, 0.2000])"
      ]
     },
     "execution_count": 5,
     "metadata": {},
     "output_type": "execute_result"
    }
   ],
   "source": [
    "input = torch.Tensor([[0.0,1.,0.5,0.5,0.5,0.5],[0.2,.5,0.2,0.5,0.5,0.5]])\n",
    "input[:,2]"
   ]
  },
  {
   "cell_type": "code",
   "execution_count": 6,
   "metadata": {},
   "outputs": [
    {
     "data": {
      "text/plain": [
       "tensor([ 0.1758, -0.4694])"
      ]
     },
     "execution_count": 6,
     "metadata": {},
     "output_type": "execute_result"
    }
   ],
   "source": [
    "cs(input)"
   ]
  },
  {
   "cell_type": "code",
   "execution_count": 7,
   "metadata": {},
   "outputs": [
    {
     "name": "stdout",
     "output_type": "stream",
     "text": [
      "It takes 194 ms to generate 19,660,800 iid samples.\n"
     ]
    }
   ],
   "source": [
    "t0 = time.time()\n",
    "num_samples = 2**16\n",
    "num_time_intervals = 30\n",
    "max_dim = 10\n",
    "size = num_samples* max_dim * num_time_intervals\n",
    "iid = torch.randn(size=[size]).to(device)\n",
    "print(\"It takes {:.0f} ms to generate {:,} iid samples.\".format(round(1000*(time.time()-t0),6),size))"
   ]
  },
  {
   "cell_type": "code",
   "execution_count": 8,
   "metadata": {},
   "outputs": [],
   "source": [
    "sim_params={'num_samples':2**9,\n",
    "        'num_time_intervals': 10,\n",
    "        'iid':iid,\n",
    "        'start' : torch.tensor([0.0]),  \n",
    "        'end' : torch.tensor([1.0]),\n",
    "        'num_neurons':4\n",
    "        }"
   ]
  },
  {
   "cell_type": "code",
   "execution_count": 9,
   "metadata": {},
   "outputs": [
    {
     "name": "stderr",
     "output_type": "stream",
     "text": [
      "/Users/fahim/Documents/GitHub/Deep-Schemes-for-Control/coeff.py:16: UserWarning: To copy construct from a tensor, it is recommended to use sourceTensor.clone().detach() or sourceTensor.clone().detach().requires_grad_(True), rather than torch.tensor(sourceTensor).\n",
      "  self.nu = torch.tensor(params['nu'][0:self.dim]).to(device)\n",
      "/Users/fahim/Documents/GitHub/Deep-Schemes-for-Control/coeff.py:17: UserWarning: To copy construct from a tensor, it is recommended to use sourceTensor.clone().detach() or sourceTensor.clone().detach().requires_grad_(True), rather than torch.tensor(sourceTensor).\n",
      "  self.kappa = torch.tensor(params['kappa'][0:self.dim]).to(device)\n",
      "/Users/fahim/Documents/GitHub/Deep-Schemes-for-Control/coeff.py:18: UserWarning: To copy construct from a tensor, it is recommended to use sourceTensor.clone().detach() or sourceTensor.clone().detach().requires_grad_(True), rather than torch.tensor(sourceTensor).\n",
      "  self.theta = torch.tensor(params['theta'][0:self.dim]).to(device)\n",
      "/Users/fahim/Documents/GitHub/Deep-Schemes-for-Control/coeff.py:19: UserWarning: To copy construct from a tensor, it is recommended to use sourceTensor.clone().detach() or sourceTensor.clone().detach().requires_grad_(True), rather than torch.tensor(sourceTensor).\n",
      "  self.eta = torch.tensor(params['eta']).to(device)\n",
      "/Users/fahim/Documents/GitHub/Deep-Schemes-for-Control/coeff.py:20: UserWarning: To copy construct from a tensor, it is recommended to use sourceTensor.clone().detach() or sourceTensor.clone().detach().requires_grad_(True), rather than torch.tensor(sourceTensor).\n",
      "  self.lb = torch.tensor(params['lb'][0:self.dim]).to(device)\n"
     ]
    }
   ],
   "source": [
    "m = OU_drift_semi(pde_params)\n",
    "optimal_diff = lambda x: torch.sqrt(torch.pow(m.lb*x[:,1:],2).sum())/pde_params['eta']\n",
    "semi_diff_opt = custom_diff(pde_params,optimal_diff)\n",
    "k = zero_discount(pde_params)\n",
    "g = exponential_terminal(pde_params)\n",
    "F = f_driver(pde_params)"
   ]
  },
  {
   "cell_type": "code",
   "execution_count": 10,
   "metadata": {},
   "outputs": [
    {
     "name": "stdout",
     "output_type": "stream",
     "text": [
      "torch.Size([512, 4, 4]) tensor([0.1500, 0.1100, 0.1200, 0.1000])\n"
     ]
    },
    {
     "name": "stderr",
     "output_type": "stream",
     "text": [
      "/Users/fahim/Documents/GitHub/Deep-Schemes-for-Control/samplepaths.py:9: UserWarning: To copy construct from a tensor, it is recommended to use sourceTensor.clone().detach() or sourceTensor.clone().detach().requires_grad_(True), rather than torch.tensor(sourceTensor).\n",
      "  a = torch.tensor(sim['start']).to(device)\n",
      "/Users/fahim/Documents/GitHub/Deep-Schemes-for-Control/samplepaths.py:10: UserWarning: To copy construct from a tensor, it is recommended to use sourceTensor.clone().detach() or sourceTensor.clone().detach().requires_grad_(True), rather than torch.tensor(sourceTensor).\n",
      "  b = torch.tensor(sim['end']).to(device)\n"
     ]
    },
    {
     "ename": "IndexError",
     "evalue": "too many indices for tensor of dimension 1",
     "output_type": "error",
     "traceback": [
      "\u001b[0;31m---------------------------------------------------------------------------\u001b[0m",
      "\u001b[0;31mIndexError\u001b[0m                                Traceback (most recent call last)",
      "Cell \u001b[0;32mIn[10], line 1\u001b[0m\n\u001b[0;32m----> 1\u001b[0m semi \u001b[38;5;241m=\u001b[39m semilinear(semi_diff_opt,m,F,k,g,pde_params,sim_params)\n",
      "File \u001b[0;32m~/Documents/GitHub/Deep-Schemes-for-Control/equation.py:115\u001b[0m, in \u001b[0;36msemilinear.__init__\u001b[0;34m(self, sigma, mu, driver, kappa, terminal, pde, sim)\u001b[0m\n\u001b[1;32m    113\u001b[0m \u001b[38;5;28;01mdef\u001b[39;00m \u001b[38;5;21m__init__\u001b[39m(\u001b[38;5;28mself\u001b[39m,sigma, mu, driver, kappa, terminal, pde, sim):\n\u001b[1;32m    114\u001b[0m     \u001b[38;5;28mself\u001b[39m\u001b[38;5;241m.\u001b[39mF \u001b[38;5;241m=\u001b[39m driver    \n\u001b[0;32m--> 115\u001b[0m     \u001b[38;5;28msuper\u001b[39m(semilinear,\u001b[38;5;28mself\u001b[39m)\u001b[38;5;241m.\u001b[39m\u001b[38;5;21m__init__\u001b[39m(sigma, mu, kappa, terminal, pde, sim)   \n\u001b[1;32m    116\u001b[0m     \u001b[38;5;28mself\u001b[39m\u001b[38;5;241m.\u001b[39msigmax \u001b[38;5;241m=\u001b[39m torch\u001b[38;5;241m.\u001b[39mones((\u001b[38;5;28mself\u001b[39m\u001b[38;5;241m.\u001b[39mx\u001b[38;5;241m.\u001b[39mshape[\u001b[38;5;241m0\u001b[39m],\u001b[38;5;28mself\u001b[39m\u001b[38;5;241m.\u001b[39mdim,\u001b[38;5;28mself\u001b[39m\u001b[38;5;241m.\u001b[39mdim,\u001b[38;5;28mself\u001b[39m\u001b[38;5;241m.\u001b[39mn))\u001b[38;5;241m.\u001b[39mto(device)\n\u001b[1;32m    117\u001b[0m     \u001b[38;5;28;01mfor\u001b[39;00m i \u001b[38;5;129;01min\u001b[39;00m \u001b[38;5;28mrange\u001b[39m(\u001b[38;5;28mself\u001b[39m\u001b[38;5;241m.\u001b[39mn):\n\u001b[1;32m    118\u001b[0m         \u001b[38;5;66;03m#evaluate and reuse self.sigma(self.x[:,:,i]).reshape((self.num_samples,self.dim,self.dim))[:,0,0] \u001b[39;00m\n",
      "File \u001b[0;32m~/Documents/GitHub/Deep-Schemes-for-Control/equation.py:37\u001b[0m, in \u001b[0;36mparabolic.__init__\u001b[0;34m(self, sigma, mu, kappa, terminal, pde, sim)\u001b[0m\n\u001b[1;32m     35\u001b[0m \u001b[38;5;28mself\u001b[39m\u001b[38;5;241m.\u001b[39mdim \u001b[38;5;241m=\u001b[39m pde[\u001b[38;5;124m'\u001b[39m\u001b[38;5;124mdim\u001b[39m\u001b[38;5;124m'\u001b[39m]\n\u001b[1;32m     36\u001b[0m \u001b[38;5;28mself\u001b[39m\u001b[38;5;241m.\u001b[39mnum_samples \u001b[38;5;241m=\u001b[39m sim[\u001b[38;5;124m'\u001b[39m\u001b[38;5;124mnum_samples\u001b[39m\u001b[38;5;124m'\u001b[39m]\n\u001b[0;32m---> 37\u001b[0m data \u001b[38;5;241m=\u001b[39m data_gen(sigma,mu,pde,sim)\n\u001b[1;32m     38\u001b[0m \u001b[38;5;28mself\u001b[39m\u001b[38;5;241m.\u001b[39mdt \u001b[38;5;241m=\u001b[39m data\u001b[38;5;241m.\u001b[39mdt\u001b[38;5;241m.\u001b[39mto(device)\n\u001b[1;32m     39\u001b[0m \u001b[38;5;28mself\u001b[39m\u001b[38;5;241m.\u001b[39mx \u001b[38;5;241m=\u001b[39m data\u001b[38;5;241m.\u001b[39mx\u001b[38;5;241m.\u001b[39mto(device)\u001b[38;5;241m.\u001b[39mclone()\u001b[38;5;241m.\u001b[39mdetach()\n",
      "File \u001b[0;32m~/Documents/GitHub/Deep-Schemes-for-Control/samplepaths.py:23\u001b[0m, in \u001b[0;36mdata_gen.__init__\u001b[0;34m(self, sigma, mu, pde, sim)\u001b[0m\n\u001b[1;32m     21\u001b[0m \u001b[38;5;28mself\u001b[39m\u001b[38;5;241m.\u001b[39msigmadw \u001b[38;5;241m=\u001b[39m torch\u001b[38;5;241m.\u001b[39mzeros((\u001b[38;5;28mself\u001b[39m\u001b[38;5;241m.\u001b[39mnum_samples,\u001b[38;5;28mself\u001b[39m\u001b[38;5;241m.\u001b[39mdim,\u001b[38;5;28mself\u001b[39m\u001b[38;5;241m.\u001b[39mn))\u001b[38;5;241m.\u001b[39mto(device)\n\u001b[1;32m     22\u001b[0m \u001b[38;5;28;01mfor\u001b[39;00m i \u001b[38;5;129;01min\u001b[39;00m \u001b[38;5;28mrange\u001b[39m(\u001b[38;5;28mself\u001b[39m\u001b[38;5;241m.\u001b[39mn):\n\u001b[0;32m---> 23\u001b[0m     \u001b[38;5;28mself\u001b[39m\u001b[38;5;241m.\u001b[39msigmadw[:,:,i] \u001b[38;5;241m=\u001b[39m torch\u001b[38;5;241m.\u001b[39mbmm(\u001b[38;5;28mself\u001b[39m\u001b[38;5;241m.\u001b[39msigma(\u001b[38;5;28mself\u001b[39m\u001b[38;5;241m.\u001b[39mx[:,:,i])\u001b[38;5;241m.\u001b[39mreshape((\u001b[38;5;28mself\u001b[39m\u001b[38;5;241m.\u001b[39mnum_samples,\u001b[38;5;28mself\u001b[39m\u001b[38;5;241m.\u001b[39mdim,\u001b[38;5;28mself\u001b[39m\u001b[38;5;241m.\u001b[39mdim)),\u001b[38;5;28mself\u001b[39m\u001b[38;5;241m.\u001b[39mdw[:, :, i]\u001b[38;5;241m.\u001b[39munsqueeze(\u001b[38;5;241m2\u001b[39m))\u001b[38;5;241m.\u001b[39msqueeze(\u001b[38;5;241m2\u001b[39m)\n\u001b[1;32m     24\u001b[0m     \u001b[38;5;28mself\u001b[39m\u001b[38;5;241m.\u001b[39mx[:,\u001b[38;5;241m1\u001b[39m:,i\u001b[38;5;241m+\u001b[39m\u001b[38;5;241m1\u001b[39m] \u001b[38;5;241m=\u001b[39m \u001b[38;5;28mself\u001b[39m\u001b[38;5;241m.\u001b[39mx[:,\u001b[38;5;241m1\u001b[39m:,i] \u001b[38;5;241m+\u001b[39m \u001b[38;5;28mself\u001b[39m\u001b[38;5;241m.\u001b[39mmu(\u001b[38;5;28mself\u001b[39m\u001b[38;5;241m.\u001b[39mx[:,:,i])\u001b[38;5;241m*\u001b[39m\u001b[38;5;28mself\u001b[39m\u001b[38;5;241m.\u001b[39mdt \u001b[38;5;241m+\u001b[39m \u001b[38;5;28mself\u001b[39m\u001b[38;5;241m.\u001b[39msigmadw[:,:,i]\n\u001b[1;32m     25\u001b[0m     \u001b[38;5;28mself\u001b[39m\u001b[38;5;241m.\u001b[39mx[:,\u001b[38;5;241m0\u001b[39m,i\u001b[38;5;241m+\u001b[39m\u001b[38;5;241m1\u001b[39m] \u001b[38;5;241m=\u001b[39m \u001b[38;5;28mself\u001b[39m\u001b[38;5;241m.\u001b[39mx[:,\u001b[38;5;241m0\u001b[39m,i]\u001b[38;5;241m+\u001b[39m\u001b[38;5;28mself\u001b[39m\u001b[38;5;241m.\u001b[39mdt\n",
      "File \u001b[0;32m~/Documents/GitHub/Deep-Schemes-for-Control/coeff.py:64\u001b[0m, in \u001b[0;36mcustom_diff.__call__\u001b[0;34m(self, x)\u001b[0m\n\u001b[1;32m     62\u001b[0m A\u001b[38;5;241m=\u001b[39mtorch\u001b[38;5;241m.\u001b[39mzeros(num_samples,dim,dim)\n\u001b[1;32m     63\u001b[0m \u001b[38;5;28mprint\u001b[39m(A[:,\u001b[38;5;241m1\u001b[39m:,\u001b[38;5;241m1\u001b[39m:]\u001b[38;5;241m.\u001b[39mshape,\u001b[38;5;28mself\u001b[39m\u001b[38;5;241m.\u001b[39mnu[\u001b[38;5;241m1\u001b[39m:])\n\u001b[0;32m---> 64\u001b[0m A[:,\u001b[38;5;241m1\u001b[39m:,\u001b[38;5;241m1\u001b[39m:] \u001b[38;5;241m=\u001b[39m torch\u001b[38;5;241m.\u001b[39mdiag(\u001b[38;5;28mself\u001b[39m\u001b[38;5;241m.\u001b[39mnu[:,\u001b[38;5;241m1\u001b[39m:])\n\u001b[1;32m     65\u001b[0m \u001b[38;5;66;03m# print(A[:,0,0].shape,self.val(x).shape)\u001b[39;00m\n\u001b[1;32m     66\u001b[0m A[:,\u001b[38;5;241m0\u001b[39m,\u001b[38;5;241m0\u001b[39m] \u001b[38;5;241m=\u001b[39m \u001b[38;5;28mself\u001b[39m\u001b[38;5;241m.\u001b[39mval(x)\n",
      "\u001b[0;31mIndexError\u001b[0m: too many indices for tensor of dimension 1"
     ]
    }
   ],
   "source": [
    "semi = semilinear(semi_diff_opt,m,F,k,g,pde_params,sim_params)"
   ]
  },
  {
   "cell_type": "code",
   "execution_count": null,
   "metadata": {},
   "outputs": [],
   "source": []
  }
 ],
 "metadata": {
  "kernelspec": {
   "display_name": "base",
   "language": "python",
   "name": "python3"
  },
  "language_info": {
   "codemirror_mode": {
    "name": "ipython",
    "version": 3
   },
   "file_extension": ".py",
   "mimetype": "text/x-python",
   "name": "python",
   "nbconvert_exporter": "python",
   "pygments_lexer": "ipython3",
   "version": "3.12.4"
  }
 },
 "nbformat": 4,
 "nbformat_minor": 2
}
